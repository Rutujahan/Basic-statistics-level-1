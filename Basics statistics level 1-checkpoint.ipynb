{
 "cells": [
  {
   "cell_type": "code",
   "execution_count": 1,
   "id": "742dcc9d",
   "metadata": {},
   "outputs": [],
   "source": [
    "#Q7) Calculate Mean, Median, Mode, Variance, Standard Deviation, Range &     comment about the values / draw inferences, for the given dataset\n",
    "#-For Points,Score,Weigh>\n",
    "#Find Mean, Median, Mode, Variance, Standard Deviation, and Range and also Comment about the values/ Draw some inferences.\n"
   ]
  },
  {
   "cell_type": "code",
   "execution_count": 2,
   "id": "315f2b89",
   "metadata": {},
   "outputs": [],
   "source": [
    "import pandas as pd\n",
    "df=pd.read_csv(\"https://excelr.s3.nl-ams.scw.cloud/DataScience-Assignments/Basic-Statistics-Level-1/Q7.csv\")"
   ]
  },
  {
   "cell_type": "code",
   "execution_count": 3,
   "id": "77c9ec4f",
   "metadata": {},
   "outputs": [
    {
     "name": "stdout",
     "output_type": "stream",
     "text": [
      "<class 'pandas.core.frame.DataFrame'>\n",
      "RangeIndex: 32 entries, 0 to 31\n",
      "Data columns (total 4 columns):\n",
      " #   Column      Non-Null Count  Dtype  \n",
      "---  ------      --------------  -----  \n",
      " 0   Unnamed: 0  32 non-null     object \n",
      " 1   Points      32 non-null     float64\n",
      " 2   Score       32 non-null     float64\n",
      " 3   Weigh       32 non-null     float64\n",
      "dtypes: float64(3), object(1)\n",
      "memory usage: 1.1+ KB\n"
     ]
    }
   ],
   "source": [
    "df.info()"
   ]
  },
  {
   "cell_type": "code",
   "execution_count": 4,
   "id": "b86a4f8c",
   "metadata": {},
   "outputs": [
    {
     "data": {
      "text/plain": [
       "3.5965625000000006"
      ]
     },
     "execution_count": 4,
     "metadata": {},
     "output_type": "execute_result"
    }
   ],
   "source": [
    "#mean of Points,Score,Weigh\n",
    "\n",
    "#Mean of Points\n",
    "df.Points.mean()"
   ]
  },
  {
   "cell_type": "code",
   "execution_count": 5,
   "id": "95cf9700",
   "metadata": {},
   "outputs": [
    {
     "data": {
      "text/plain": [
       "3.2172499999999995"
      ]
     },
     "execution_count": 5,
     "metadata": {},
     "output_type": "execute_result"
    }
   ],
   "source": [
    "#Mean of Score\n",
    "df.Score.mean()"
   ]
  },
  {
   "cell_type": "code",
   "execution_count": 6,
   "id": "d4eeda9b",
   "metadata": {},
   "outputs": [
    {
     "data": {
      "text/html": [
       "<div>\n",
       "<style scoped>\n",
       "    .dataframe tbody tr th:only-of-type {\n",
       "        vertical-align: middle;\n",
       "    }\n",
       "\n",
       "    .dataframe tbody tr th {\n",
       "        vertical-align: top;\n",
       "    }\n",
       "\n",
       "    .dataframe thead th {\n",
       "        text-align: right;\n",
       "    }\n",
       "</style>\n",
       "<table border=\"1\" class=\"dataframe\">\n",
       "  <thead>\n",
       "    <tr style=\"text-align: right;\">\n",
       "      <th></th>\n",
       "      <th>Points</th>\n",
       "      <th>Score</th>\n",
       "      <th>Weigh</th>\n",
       "    </tr>\n",
       "  </thead>\n",
       "  <tbody>\n",
       "    <tr>\n",
       "      <th>count</th>\n",
       "      <td>32.000000</td>\n",
       "      <td>32.000000</td>\n",
       "      <td>32.000000</td>\n",
       "    </tr>\n",
       "    <tr>\n",
       "      <th>mean</th>\n",
       "      <td>3.596563</td>\n",
       "      <td>3.217250</td>\n",
       "      <td>17.848750</td>\n",
       "    </tr>\n",
       "    <tr>\n",
       "      <th>std</th>\n",
       "      <td>0.534679</td>\n",
       "      <td>0.978457</td>\n",
       "      <td>1.786943</td>\n",
       "    </tr>\n",
       "    <tr>\n",
       "      <th>min</th>\n",
       "      <td>2.760000</td>\n",
       "      <td>1.513000</td>\n",
       "      <td>14.500000</td>\n",
       "    </tr>\n",
       "    <tr>\n",
       "      <th>25%</th>\n",
       "      <td>3.080000</td>\n",
       "      <td>2.581250</td>\n",
       "      <td>16.892500</td>\n",
       "    </tr>\n",
       "    <tr>\n",
       "      <th>50%</th>\n",
       "      <td>3.695000</td>\n",
       "      <td>3.325000</td>\n",
       "      <td>17.710000</td>\n",
       "    </tr>\n",
       "    <tr>\n",
       "      <th>75%</th>\n",
       "      <td>3.920000</td>\n",
       "      <td>3.610000</td>\n",
       "      <td>18.900000</td>\n",
       "    </tr>\n",
       "    <tr>\n",
       "      <th>max</th>\n",
       "      <td>4.930000</td>\n",
       "      <td>5.424000</td>\n",
       "      <td>22.900000</td>\n",
       "    </tr>\n",
       "  </tbody>\n",
       "</table>\n",
       "</div>"
      ],
      "text/plain": [
       "          Points      Score      Weigh\n",
       "count  32.000000  32.000000  32.000000\n",
       "mean    3.596563   3.217250  17.848750\n",
       "std     0.534679   0.978457   1.786943\n",
       "min     2.760000   1.513000  14.500000\n",
       "25%     3.080000   2.581250  16.892500\n",
       "50%     3.695000   3.325000  17.710000\n",
       "75%     3.920000   3.610000  18.900000\n",
       "max     4.930000   5.424000  22.900000"
      ]
     },
     "execution_count": 6,
     "metadata": {},
     "output_type": "execute_result"
    }
   ],
   "source": [
    "df.describe()"
   ]
  },
  {
   "cell_type": "code",
   "execution_count": 7,
   "id": "23d7a062",
   "metadata": {},
   "outputs": [],
   "source": [
    "#Q.9) Calculate Skewness, Kurtosis & draw inferences on the following data\n",
    "#Cars speed and distance \n",
    "#Use Q9_a.csv"
   ]
  },
  {
   "cell_type": "code",
   "execution_count": 8,
   "id": "f9623356",
   "metadata": {},
   "outputs": [],
   "source": [
    "import pandas as pd\n",
    "import numpy as np\n",
    "import matplotlib.pyplot as plt"
   ]
  },
  {
   "cell_type": "code",
   "execution_count": 9,
   "id": "29455789",
   "metadata": {},
   "outputs": [],
   "source": [
    "df=pd.read_csv(\"https://s3-ap-southeast-1.amazonaws.com/elearning.excelr.com/DS/Assignments/Basic+Statistics/Level-1/Q9_a.csv\")"
   ]
  },
  {
   "cell_type": "code",
   "execution_count": 10,
   "id": "81e42236",
   "metadata": {},
   "outputs": [
    {
     "data": {
      "text/plain": [
       "Index    0.000000\n",
       "speed   -0.117510\n",
       "dist     0.806895\n",
       "dtype: float64"
      ]
     },
     "execution_count": 10,
     "metadata": {},
     "output_type": "execute_result"
    }
   ],
   "source": [
    "df.skew()"
   ]
  },
  {
   "cell_type": "code",
   "execution_count": 11,
   "id": "0142aae9",
   "metadata": {},
   "outputs": [
    {
     "data": {
      "text/plain": [
       "Index   -1.200000\n",
       "speed   -0.508994\n",
       "dist     0.405053\n",
       "dtype: float64"
      ]
     },
     "execution_count": 11,
     "metadata": {},
     "output_type": "execute_result"
    }
   ],
   "source": [
    "df.kurt()"
   ]
  },
  {
   "cell_type": "code",
   "execution_count": 12,
   "id": "48ad1bc1",
   "metadata": {},
   "outputs": [
    {
     "data": {
      "text/plain": [
       "array([[<AxesSubplot:title={'center':'Index'}>,\n",
       "        <AxesSubplot:title={'center':'speed'}>],\n",
       "       [<AxesSubplot:title={'center':'dist'}>, <AxesSubplot:>]],\n",
       "      dtype=object)"
      ]
     },
     "execution_count": 12,
     "metadata": {},
     "output_type": "execute_result"
    },
    {
     "data": {
      "image/png": "[encoded data removed]",
      "text/plain": [
       "<Figure size 432x288 with 4 Axes>"
      ]
     },
     "metadata": {
      "needs_background": "light"
     },
     "output_type": "display_data"
    }
   ],
   "source": [
    "df.hist()"
   ]
  },
  {
   "cell_type": "code",
   "execution_count": 13,
   "id": "12dacbe1",
   "metadata": {},
   "outputs": [],
   "source": [
    "#SP and Weight(WT)\n",
    "#Use Q9_b.csv"
   ]
  },
  {
   "cell_type": "code",
   "execution_count": 14,
   "id": "f1898a74",
   "metadata": {},
   "outputs": [],
   "source": [
    "import pandas as pd\n",
    "import numpy as np\n",
    "import matplotlib.pyplot as plt\n"
   ]
  },
  {
   "cell_type": "code",
   "execution_count": 15,
   "id": "fd3c11f9",
   "metadata": {},
   "outputs": [],
   "source": [
    "df=pd.read_csv(\"https://s3-ap-southeast-1.amazonaws.com/elearning.excelr.com/DS/Assignments/Basic+Statistics/Level-1/Q9_b.csv\")"
   ]
  },
  {
   "cell_type": "code",
   "execution_count": 16,
   "id": "d1e07359",
   "metadata": {},
   "outputs": [
    {
     "data": {
      "text/plain": [
       "array([[<AxesSubplot:title={'center':'Unnamed: 0'}>,\n",
       "        <AxesSubplot:title={'center':'SP'}>],\n",
       "       [<AxesSubplot:title={'center':'WT'}>, <AxesSubplot:>]],\n",
       "      dtype=object)"
      ]
     },
     "execution_count": 16,
     "metadata": {},
     "output_type": "execute_result"
    },
    {
     "data": {
      "image/png": "[encoded data removed]",
      "text/plain": [
       "<Figure size 432x288 with 4 Axes>"
      ]
     },
     "metadata": {
      "needs_background": "light"
     },
     "output_type": "display_data"
    }
   ],
   "source": [
    "df.hist()"
   ]
  },
  {
   "cell_type": "code",
   "execution_count": 17,
   "id": "e19d4a18",
   "metadata": {},
   "outputs": [],
   "source": [
    "#Q.20) Calculate probability from the given dataset for the below cases\n",
    "#Data _set: Cars.csv\n",
    "#Calculate the probability of MPG  of Cars for the below cases.\n",
    "#MPG <- Cars$MPG\n",
    "#a.P(MPG>38)\n",
    "#b.P(MPG<40)\n",
    "#c.P (20<MPG<50)"
   ]
  },
  {
   "cell_type": "code",
   "execution_count": 18,
   "id": "147d5753",
   "metadata": {},
   "outputs": [],
   "source": [
    "import pandas as pd\n",
    "import numpy  as np\n",
    "from scipy import stats"
   ]
  },
  {
   "cell_type": "code",
   "execution_count": 19,
   "id": "aced7a93",
   "metadata": {},
   "outputs": [],
   "source": [
    "df=pd.read_csv(\"https://excelr.s3.nl-ams.scw.cloud/DataScience-Assignments/Basic-Statistics-Level-1/Cars.csv\")"
   ]
  },
  {
   "cell_type": "code",
   "execution_count": 20,
   "id": "1638c6d7",
   "metadata": {},
   "outputs": [
    {
     "data": {
      "text/plain": [
       "34.422075728024666"
      ]
     },
     "execution_count": 20,
     "metadata": {},
     "output_type": "execute_result"
    }
   ],
   "source": [
    "df.MPG.mean()"
   ]
  },
  {
   "cell_type": "code",
   "execution_count": 21,
   "id": "2a3bf9d1",
   "metadata": {},
   "outputs": [
    {
     "data": {
      "text/plain": [
       "9.131444731795982"
      ]
     },
     "execution_count": 21,
     "metadata": {},
     "output_type": "execute_result"
    }
   ],
   "source": [
    "df.MPG.std()"
   ]
  },
  {
   "cell_type": "code",
   "execution_count": 22,
   "id": "cf10b73a",
   "metadata": {},
   "outputs": [
    {
     "data": {
      "text/plain": [
       "0.34759394041453007"
      ]
     },
     "execution_count": 22,
     "metadata": {},
     "output_type": "execute_result"
    }
   ],
   "source": [
    "import pandas as pd\n",
    "import numpy  as np\n",
    "from scipy import stats\n",
    "\n",
    "#P(MPG>38)\n",
    "\n",
    "1-stats.norm.cdf(x=38,loc=34.422076,scale=9.131445)\n"
   ]
  },
  {
   "cell_type": "code",
   "execution_count": 23,
   "id": "1d1a5c9e",
   "metadata": {},
   "outputs": [
    {
     "data": {
      "text/plain": [
       "0.7293498604157946"
      ]
     },
     "execution_count": 23,
     "metadata": {},
     "output_type": "execute_result"
    }
   ],
   "source": [
    "#P(MPG<40)\n",
    "\n",
    "stats.norm.cdf(x=40,loc=34.422076,scale=9.131445)\n"
   ]
  },
  {
   "cell_type": "code",
   "execution_count": 34,
   "id": "601a06ed",
   "metadata": {},
   "outputs": [
    {
     "data": {
      "text/plain": [
       "0.9569833775238424"
      ]
     },
     "execution_count": 34,
     "metadata": {},
     "output_type": "execute_result"
    }
   ],
   "source": [
    "# P (20<MPG<50)\n",
    "\n",
    "stats.norm.cdf(50, 34.422075728024666, 9.131444731795982\n",
    "-stats.norm.cdf(20, 34.422075728024666, 9.131444731795982\n",
    "))          \n"
   ]
  },
  {
   "cell_type": "code",
   "execution_count": 35,
   "id": "eb324a1b",
   "metadata": {},
   "outputs": [],
   "source": [
    "#Q 21) Check whether the data follows normal distribution\n",
    "#a)Check whether the MPG of Cars follows Normal Distribution \n",
    "# Dataset: Cars.csv\n",
    "\n",
    "\n",
    "\n",
    "import pandas as pd\n",
    "import numpy  as np\n",
    "from scipy import stats"
   ]
  },
  {
   "cell_type": "code",
   "execution_count": 26,
   "id": "2f446ff1",
   "metadata": {},
   "outputs": [],
   "source": [
    "df=pd.read_csv(\"https://excelr.s3.nl-ams.scw.cloud/DataScience-Assignments/Basic-Statistics-Level-1/Cars.csv\")"
   ]
  },
  {
   "cell_type": "code",
   "execution_count": 27,
   "id": "64435e52",
   "metadata": {},
   "outputs": [
    {
     "data": {
      "text/plain": [
       "-0.17794674747025727"
      ]
     },
     "execution_count": 27,
     "metadata": {},
     "output_type": "execute_result"
    }
   ],
   "source": [
    "df.MPG.skew()"
   ]
  },
  {
   "cell_type": "code",
   "execution_count": 28,
   "id": "9ea84bf5",
   "metadata": {},
   "outputs": [
    {
     "data": {
      "text/plain": [
       "<AxesSubplot:>"
      ]
     },
     "execution_count": 28,
     "metadata": {},
     "output_type": "execute_result"
    },
    {
     "data": {
      "image/png": "[encoded data removed]",
      "text/plain": [
       "<Figure size 432x288 with 1 Axes>"
      ]
     },
     "metadata": {
      "needs_background": "light"
     },
     "output_type": "display_data"
    }
   ],
   "source": [
    "df.MPG.hist()"
   ]
  },
  {
   "cell_type": "code",
   "execution_count": 29,
   "id": "972f5806",
   "metadata": {},
   "outputs": [],
   "source": [
    "import pandas as pd\n",
    "import numpy  as np\n",
    "from scipy import stats\n",
    "\n",
    "df=pd.read_csv(\"https://s3-ap-southeast-1.amazonaws.com/elearning.excelr.com/DS/Assignments/Basic+Statistics/Level-1/wc-at.csv\")\n"
   ]
  },
  {
   "cell_type": "code",
   "execution_count": 30,
   "id": "3f9ad0d9",
   "metadata": {},
   "outputs": [
    {
     "data": {
      "text/plain": [
       "array([[<AxesSubplot:title={'center':'Waist'}>,\n",
       "        <AxesSubplot:title={'center':'AT'}>]], dtype=object)"
      ]
     },
     "execution_count": 30,
     "metadata": {},
     "output_type": "execute_result"
    },
    {
     "data": {
      "image/png": "[encoded data removed]",
      "text/plain": [
       "<Figure size 432x288 with 2 Axes>"
      ]
     },
     "metadata": {
      "needs_background": "light"
     },
     "output_type": "display_data"
    }
   ],
   "source": [
    "df.hist()"
   ]
  },
  {
   "cell_type": "code",
   "execution_count": 31,
   "id": "13053fb5",
   "metadata": {},
   "outputs": [
    {
     "data": {
      "text/plain": [
       "<AxesSubplot:>"
      ]
     },
     "execution_count": 31,
     "metadata": {},
     "output_type": "execute_result"
    },
    {
     "data": {
      "image/png": "[encoded data removed]",
      "text/plain": [
       "<Figure size 432x288 with 1 Axes>"
      ]
     },
     "metadata": {
      "needs_background": "light"
     },
     "output_type": "display_data"
    }
   ],
   "source": [
    "df.Waist.hist()"
   ]
  },
  {
   "cell_type": "code",
   "execution_count": 32,
   "id": "9db94957",
   "metadata": {},
   "outputs": [
    {
     "data": {
      "text/plain": [
       "0.1340560824786468"
      ]
     },
     "execution_count": 32,
     "metadata": {},
     "output_type": "execute_result"
    }
   ],
   "source": [
    "df.Waist.skew()"
   ]
  },
  {
   "cell_type": "code",
   "execution_count": 33,
   "id": "af3555c4",
   "metadata": {},
   "outputs": [
    {
     "data": {
      "text/plain": [
       "0.584869324127853"
      ]
     },
     "execution_count": 33,
     "metadata": {},
     "output_type": "execute_result"
    }
   ],
   "source": [
    "df.AT.skew()"
   ]
  },
  {
   "cell_type": "code",
   "execution_count": null,
   "id": "d5771eb5",
   "metadata": {},
   "outputs": [],
   "source": []
  }
 ],
 "metadata": {
  "kernelspec": {
   "display_name": "Python 3 (ipykernel)",
   "language": "python",
   "name": "python3"
  },
  "language_info": {
   "codemirror_mode": {
    "name": "ipython",
    "version": 3
   },
   "file_extension": ".py",
   "mimetype": "text/x-python",
   "name": "python",
   "nbconvert_exporter": "python",
   "pygments_lexer": "ipython3",
   "version": "3.9.12"
  }
 },
 "nbformat": 4,
 "nbformat_minor": 5
}
